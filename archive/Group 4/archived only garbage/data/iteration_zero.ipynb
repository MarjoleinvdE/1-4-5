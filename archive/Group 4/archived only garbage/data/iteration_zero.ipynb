{
 "cells": [
  {
   "cell_type": "markdown",
   "metadata": {},
   "source": [
    "# Five dots \n",
    "##### *Authors: Group 4*\n",
    "- *Clauwers, Jaimy J.W.L.* \n",
    "- *van der Eerden, Marjolein M.C.*\n",
    "- *Umwiza, Soleil S.*\n",
    "- *Nanov, Veselin V.*\n",
    "--------------------------------------\n",
    "\n",
    "## 🟡 Phase 1: Proposal\n",
    "\n",
    "### 🟡 Domain understanding\n",
    "\n",
    "#### 🏫 Maastricht University \n",
    "\n",
    "Maastricht University (Universiteit Maastricht) is a well-known Dutch university located in the city of Maastricht, the Netherlands. The university is renowned for its international character and innovative educational methods. Maastricht University has multiple faculties and offers a wide range of bachelor's, master's, and PhD programs in various fields, including medicine and health sciences, law, economics, arts, and social sciences. \n",
    "\n",
    "The university is also recognized for its Problem-Based Learning (PBL) approach, which encourages students to actively participate in their own learning process and tackle complex issues. Maastricht University is highly ranked in international rankings and attracts students and academics from around the world. It is a leading institution of higher education in the Netherlands and Europe. \n",
    "\n",
    "> About UM - About UM - Maastricht University. (n.d.). https://www.maastrichtuniversity.nl/about-um-0\n",
    "\n",
    " \n",
    "\n",
    "#### 🎲The Five Dot Test \n",
    "\n",
    "The Five Dot Test, also known as the Design Fluency Test, is a cognitive assessment tool designed to measure an individual's ability to generate as many diverse and original designs as possible within a specific time period, using a limited set of shapes and lines. The test typically involves displaying a grid with five dots and connecting these dots to create unique patterns. \n",
    "\n",
    "The Five Dot Test is often used in research to explore various aspects of cognitive function, including: \n",
    "\n",
    "- **Executive Functions**: The test can provide insights into a person's capacity to apply strategic thinking processes when generating designs. \n",
    "\n",
    "- **Working Memory**: The ability to remember the five dots and use them in creating designs. \n",
    "\n",
    "- **Creative Thinking**: The ability to come up with original and diverse designs within the given constraints. \n",
    "\n",
    "The Five Dot Test is often conducted under standardized conditions, meaning there are specific instructions and time limits to ensure consistency in the assessment. It can be applied to various populations, including children, adults, and older individuals, and has valuable applications in neuropsychological research and clinical assessments. \n",
    "\n",
    "> Tucha, L., Aschenbrenner, S., Koerts, J., & Lange, K. W. (2012). The Five-Point Test: reliability, validity and normative data for children and adults. PLOS ONE, 7(9), e46080. https://doi.org/10.1371/journal.pone.0046080\n",
    "\n",
    "\n",
    "The traditional scoring method involves assigning a specific time interval (e.g., 90 seconds) and then counting all the unique patterns generated, subtracting any duplicates. \n",
    "\n",
    "> Cognitive scheme: https://app.diagrams.net/#G1ZnMBsSesW0elvxvbbAYP8drdYvStngMT  \n",
    "\n",
    "#### 📄Test at primary school (Eindtoets) \n",
    "\n",
    "The \"Eindtoets op de basisschool,\" known in English as the \"Final Primary School Test\" or \"Primary School Leaving Examination,\" is a standardized test typically administered at the end of the primary school period. This test is designed to assess the academic level and knowledge of students and determine if they are ready to progress to secondary education. \n",
    "\n",
    "Key points about the Final Primary School Test, including an explanation of the scoring range and associated recommendations, are as follows: \n",
    "\n",
    "- **Evaluation of Basic Skills**: The test usually assesses core skills that students have acquired during their primary school education, such as reading, writing, mathematics, and comprehension. \n",
    "\n",
    "- **Level of Proficiency**: It measures the level of proficiency in these basic skills and assesses whether students are adequately prepared to enter the next phase of their education. \n",
    "\n",
    "- **Study Advice**: The results of the Final Primary School Test are often used to provide students with study advice for secondary education. Depending on their performance, students may be recommended for different levels or streams in secondary education. \n",
    "\n",
    "- **Standardized**: The test is standardized, meaning that all students answer the same questions under similar conditions. This helps in the objective assessment of performance. \n",
    "\n",
    "- **Scoring Range**: The scoring of the Final Primary School Test typically falls within a specific range, such as 500 to 550 points. The exact range may vary by country. \n",
    "\n",
    "A score in the range of 500-550 points often corresponds to specific recommendations for secondary education. For instance, a score in the upper range might lead to a recommendation for more academically challenging programs, while a score at the lower end could suggest a different educational track. These recommendations help guide students towards a suitable level or stream in their secondary education. \n",
    "\n",
    "The Final Primary School Test represents a significant moment for students, parents, and educators, as it influences the transition to further education and provides students with an opportunity to showcase their academic achievements and receive tailored advice for their educational path. \n",
    "\n",
    "> Cito toets: a guide to the Dutch primary school exams. (2023, February 16). Expatica. Retrieved October 8, 2023, from https://www.expatica.com/nl/education/children-education/cito-toets-exams-100820/\n",
    "\n",
    "#### 💥Impact of AI \n",
    "\n",
    "The impact of artificial intelligence (AI) in the field of standardized tests, such as the Primary School Leaving Examination, can be both positive and negative \n",
    "\n",
    "##### 📈Positive impact \n",
    "\n",
    "**Efficiency and Accuracy**: can contribute to more efficient test management, including automatic scoring. This can improve the speed of the evaluation process and reduce human errors. \n",
    "\n",
    "**Adaptive Testing**: AI can enable adaptive testing, where the difficulty of questions adjusts to the student's level. This provides tailored questions that more accurately measure their skills. \n",
    "\n",
    "**Quick Results**: AI-assisted assessment can provide faster access to results, allowing students, parents, and teachers to receive feedback earlier. \n",
    "\n",
    "**Performance Analysis**: AI can help analyze performance data on a larger scale, enabling educational institutions to identify trends and improve curricula. \n",
    "\n",
    "#### 📉Negative impact \n",
    "\n",
    "**Bias and Fairness: If** AI systems are not well-designed, they can contain inherent biases, potentially leading to unfair results, especially for minority groups. \n",
    "\n",
    "**Privacy Concerns**: : Collecting and storing data for AI-based tests can raise privacy concerns, particularly for tests that require personal information. \n",
    "\n",
    "**Loss of Human Interaction**: The use of AI can lead to reduced human interaction, which may be important for understanding students' emotional needs and providing support. \n",
    "\n",
    "**Accessibility**: While AI-adaptive tests can be beneficial, measures need to be taken to ensure that all students have access to the necessary technology and that accommodations are made for individuals with special needs. \n",
    "\n",
    "### 🟡 Data Sourcing\n",
    "\n",
    "We have received a number of datasets from The University of Maastricht, which will enable us to bring the project to a successful conclusion. The datasets are as follows:\n",
    "\n",
    "- **Ozdb_fivepoints_vo3_2019-2020_vo4_2020-2021.csv**: Main dataset, contains all data on the five dot tests performed.\n",
    "- **big5.csv**:  Additional dataset, contains responses of participants on a Big 5 personality test.\n",
    "- **eindtoets.csv**: Additional dataset, contains the scores of students at the test they took at the end of primary education.\n",
    "\n",
    "#### 📚 Data Definition\n",
    "\n",
    "##### 🔤 Data Fields\n",
    "\n",
    "The main file: 'Ozdb_fivepoints_vo3_2019-2020_vo4_2020-2021.csv' contains the following variables:\n",
    "\n",
    "- **primary**: Counts the order in which submitted patterns entered the server.\n",
    "- **idll_vo3l**: The student identifier.\n",
    "- **name**: Type of data that is stored and value the content of this data, this one is one of the following categories:\n",
    "    - *patternsm*: The submitted pattern, giving a 1 for each line that is drawn and 0 for each line that is not drawn when submitting the figure. \n",
    "    - *timestampsm*: How many milliseconds after the page was retrieved did the student submit the pattern.\n",
    "    - *statuscl*: For each click was it an on- or an off-click.\n",
    "    - *numbercl*: In what order have the lines been clicked (in theory statuscl can be derived from this. The first time a line is clicked it should be on, the second time it should be an off, …).\n",
    "    - *timestampcl*: Gives for each click the unix time stamp. \n",
    "    - *timestampload*: Gives thes unix time stamp for the moment the page was loaded. Timestampload + timestampload = the time the page was submitted.\n",
    "- **value**: The obtained value associated with the corresponding *name*.\n",
    "- **timestamp**: The time the data was stored.\n",
    "\n",
    "### 🟡 Analytic Approach\n",
    "\n",
    "#### 🎯 Target variable\n",
    "\n",
    "In our context, using machine learning algorithms to analyze and understand student behavior and interactions, the choice of a target variable depends on the specific objectives of the analysis. \n",
    "\n",
    "- **Prediction of student outcomes**: A binary variable indicating whether the student successfully completed a task or achieved a specific outcome (1 for success, 0 for failure).\n",
    "- **Grouping students with similar patterns**: The output is the cluster assignment for each student. Clustering algorithms group students based on their behavior.\n",
    "- **Temporal behavior patterns**: Time stamped datapoints, such as the sequence of student interactions over time. The analysis aims to understand how behavior changes over time, and the time stamps serve as the target variable.\n",
    "\n",
    "#### 🎨 Model selection\n",
    "\n",
    "With the provided data, various machine learning models can be applied, each with its own strengths and purposes.\n",
    "\n",
    "- **Decision Trees and Random Forests**:  They can explain key factors influencing student behavior and help in feature importance analysis.\n",
    "- **Clustering Algorithms**: They help in segmenting students into groups with similar behavior, enabling tailored interventions.\n",
    "- **Time Series Models**: They reveal temporal patterns and trends in student interactions, helping in understanding how behavior changes over time.\n",
    "- **Reinforcement Learning**: It can optimize the learning process by suggesting the next best action for students, improving engagement and performance."
   ]
  },
  {
   "cell_type": "markdown",
   "metadata": {},
   "source": [
    "## Phase 2:  Provisioning \n",
    "### Data requirements \n",
    "### Data collection"
   ]
  },
  {
   "cell_type": "code",
   "execution_count": 38,
   "metadata": {},
   "outputs": [
    {
     "name": "stdout",
     "output_type": "stream",
     "text": [
      "scikit-learn version: 1.3.1\n",
      "pandas version: 2.1.1\n",
      "seaborn version: 0.13.0\n"
     ]
    },
    {
     "name": "stdout",
     "output_type": "stream",
     "text": [
      "(1122114, 4)\n"
     ]
    }
   ],
   "source": [
    "import sklearn\n",
    "import pandas as pd\n",
    "import numpy as np\n",
    "import matplotlib.pyplot as plt\n",
    "import seaborn as sns\n",
    "import missingno as missing\n",
    "from datetime import datetime\n",
    "import warnings\n",
    "\n",
    "warnings.filterwarnings('ignore')\n",
    "\n",
    "print(\"scikit-learn version:\", sklearn.__version__)     # 1.1.3\n",
    "print(\"pandas version:\", pd.__version__)            # 1.5.1\n",
    "print(\"seaborn version:\", sns.__version__)   \n",
    "\n",
    "df1 = pd.read_csv(\"./Five Point Test/Ozdb_fivepoints_vo3_2019-2020_vo4_2020-2021.csv\", sep=';', index_col=0)\n",
    "\n",
    "print(df1.shape)\n"
   ]
  },
  {
   "cell_type": "markdown",
   "metadata": {},
   "source": [
    "### Data understanding"
   ]
  },
  {
   "cell_type": "markdown",
   "metadata": {},
   "source": [
    "The first thing we did was globally looking at the data. we first did that by printing the data info."
   ]
  },
  {
   "cell_type": "code",
   "execution_count": 39,
   "metadata": {},
   "outputs": [
    {
     "name": "stdout",
     "output_type": "stream",
     "text": [
      "<class 'pandas.core.frame.DataFrame'>\n",
      "Index: 1122114 entries, 36 to 1122174\n",
      "Data columns (total 4 columns):\n",
      " #   Column      Non-Null Count    Dtype \n",
      "---  ------      --------------    ----- \n",
      " 0   idll_vo3lv  1122114 non-null  int64 \n",
      " 1   name        1122114 non-null  object\n",
      " 2   value       1093572 non-null  object\n",
      " 3   timestamp   1122114 non-null  object\n",
      "dtypes: int64(1), object(3)\n",
      "memory usage: 42.8+ MB\n"
     ]
    }
   ],
   "source": [
    "df1.info()"
   ]
  },
  {
   "cell_type": "markdown",
   "metadata": {},
   "source": [
    "We saw that there were only 4 columns where we expected more since we were told what we would get in the dataset by the clients. So next up we printed a random sample of 25 so we can see why it are only so little columns. "
   ]
  },
  {
   "cell_type": "code",
   "execution_count": 40,
   "metadata": {},
   "outputs": [
    {
     "data": {
      "text/html": [
       "<div>\n",
       "<style scoped>\n",
       "    .dataframe tbody tr th:only-of-type {\n",
       "        vertical-align: middle;\n",
       "    }\n",
       "\n",
       "    .dataframe tbody tr th {\n",
       "        vertical-align: top;\n",
       "    }\n",
       "\n",
       "    .dataframe thead th {\n",
       "        text-align: right;\n",
       "    }\n",
       "</style>\n",
       "<table border=\"1\" class=\"dataframe\">\n",
       "  <thead>\n",
       "    <tr style=\"text-align: right;\">\n",
       "      <th></th>\n",
       "      <th>idll_vo3lv</th>\n",
       "      <th>name</th>\n",
       "      <th>value</th>\n",
       "      <th>timestamp</th>\n",
       "    </tr>\n",
       "    <tr>\n",
       "      <th>primary</th>\n",
       "      <th></th>\n",
       "      <th></th>\n",
       "      <th></th>\n",
       "      <th></th>\n",
       "    </tr>\n",
       "  </thead>\n",
       "  <tbody>\n",
       "    <tr>\n",
       "      <th>1037228</th>\n",
       "      <td>2072</td>\n",
       "      <td>timestampsm</td>\n",
       "      <td>1520</td>\n",
       "      <td>2020-11-03 13:33:13</td>\n",
       "    </tr>\n",
       "    <tr>\n",
       "      <th>395476</th>\n",
       "      <td>6891</td>\n",
       "      <td>numbercl</td>\n",
       "      <td>1,2,7</td>\n",
       "      <td>2020-06-29 09:21:45</td>\n",
       "    </tr>\n",
       "    <tr>\n",
       "      <th>776583</th>\n",
       "      <td>35</td>\n",
       "      <td>statuscl</td>\n",
       "      <td>1,1,1,1,1</td>\n",
       "      <td>2020-09-28 11:12:01</td>\n",
       "    </tr>\n",
       "    <tr>\n",
       "      <th>17812</th>\n",
       "      <td>4902</td>\n",
       "      <td>numbercl</td>\n",
       "      <td>NaN</td>\n",
       "      <td>2020-03-10 10:32:34</td>\n",
       "    </tr>\n",
       "    <tr>\n",
       "      <th>293798</th>\n",
       "      <td>131</td>\n",
       "      <td>timestampsm</td>\n",
       "      <td>608</td>\n",
       "      <td>2020-06-22 12:19:15</td>\n",
       "    </tr>\n",
       "    <tr>\n",
       "      <th>3059</th>\n",
       "      <td>9032</td>\n",
       "      <td>timestampcl</td>\n",
       "      <td>1583745294328</td>\n",
       "      <td>2020-03-09 10:14:55</td>\n",
       "    </tr>\n",
       "    <tr>\n",
       "      <th>667199</th>\n",
       "      <td>7406</td>\n",
       "      <td>timestampcl</td>\n",
       "      <td>1600758903694</td>\n",
       "      <td>2020-09-22 09:15:04</td>\n",
       "    </tr>\n",
       "    <tr>\n",
       "      <th>314921</th>\n",
       "      <td>9638</td>\n",
       "      <td>timestampcl</td>\n",
       "      <td>1592908988181</td>\n",
       "      <td>2020-06-23 12:43:07</td>\n",
       "    </tr>\n",
       "    <tr>\n",
       "      <th>52081</th>\n",
       "      <td>7734</td>\n",
       "      <td>patternsm</td>\n",
       "      <td>0,0,1,0,0,0,1,1</td>\n",
       "      <td>2020-03-12 08:59:50</td>\n",
       "    </tr>\n",
       "    <tr>\n",
       "      <th>155504</th>\n",
       "      <td>1938</td>\n",
       "      <td>timestampsm</td>\n",
       "      <td>1655</td>\n",
       "      <td>2020-06-12 10:18:41</td>\n",
       "    </tr>\n",
       "    <tr>\n",
       "      <th>627076</th>\n",
       "      <td>652</td>\n",
       "      <td>numbercl</td>\n",
       "      <td>6,7,7,7,7,7</td>\n",
       "      <td>2020-09-17 12:00:26</td>\n",
       "    </tr>\n",
       "    <tr>\n",
       "      <th>1112740</th>\n",
       "      <td>7663</td>\n",
       "      <td>numbercl</td>\n",
       "      <td>3,2,5</td>\n",
       "      <td>2020-11-13 09:47:19</td>\n",
       "    </tr>\n",
       "    <tr>\n",
       "      <th>930954</th>\n",
       "      <td>8381</td>\n",
       "      <td>timestampload</td>\n",
       "      <td>1602491471723</td>\n",
       "      <td>2020-10-12 10:31:13</td>\n",
       "    </tr>\n",
       "    <tr>\n",
       "      <th>1093625</th>\n",
       "      <td>8663</td>\n",
       "      <td>timestampcl</td>\n",
       "      <td>1605002356909,1605002357481,1605002358387</td>\n",
       "      <td>2020-11-10 10:59:25</td>\n",
       "    </tr>\n",
       "    <tr>\n",
       "      <th>187102</th>\n",
       "      <td>4390</td>\n",
       "      <td>numbercl</td>\n",
       "      <td>6,3</td>\n",
       "      <td>2020-06-16 12:38:04</td>\n",
       "    </tr>\n",
       "    <tr>\n",
       "      <th>426081</th>\n",
       "      <td>4015</td>\n",
       "      <td>statuscl</td>\n",
       "      <td>NaN</td>\n",
       "      <td>2020-06-30 17:05:15</td>\n",
       "    </tr>\n",
       "    <tr>\n",
       "      <th>144665</th>\n",
       "      <td>3309</td>\n",
       "      <td>timestampcl</td>\n",
       "      <td>1591877828893,1591877829190,1591877829425</td>\n",
       "      <td>2020-06-11 14:17:10</td>\n",
       "    </tr>\n",
       "    <tr>\n",
       "      <th>485722</th>\n",
       "      <td>5177</td>\n",
       "      <td>numbercl</td>\n",
       "      <td>4,8,5</td>\n",
       "      <td>2020-07-03 10:46:45</td>\n",
       "    </tr>\n",
       "    <tr>\n",
       "      <th>1085024</th>\n",
       "      <td>4553</td>\n",
       "      <td>timestampsm</td>\n",
       "      <td>4377</td>\n",
       "      <td>2020-11-09 10:45:15</td>\n",
       "    </tr>\n",
       "    <tr>\n",
       "      <th>875716</th>\n",
       "      <td>1376</td>\n",
       "      <td>numbercl</td>\n",
       "      <td>7,8</td>\n",
       "      <td>2020-10-05 10:50:00</td>\n",
       "    </tr>\n",
       "    <tr>\n",
       "      <th>51506</th>\n",
       "      <td>8535</td>\n",
       "      <td>timestampsm</td>\n",
       "      <td>1552</td>\n",
       "      <td>2020-03-12 08:59:08</td>\n",
       "    </tr>\n",
       "    <tr>\n",
       "      <th>318317</th>\n",
       "      <td>3889</td>\n",
       "      <td>timestampcl</td>\n",
       "      <td>1592911250971</td>\n",
       "      <td>2020-06-23 13:20:52</td>\n",
       "    </tr>\n",
       "    <tr>\n",
       "      <th>639535</th>\n",
       "      <td>764</td>\n",
       "      <td>patternsm</td>\n",
       "      <td>0,0,0,1,0,0,0,0</td>\n",
       "      <td>2020-09-21 08:56:05</td>\n",
       "    </tr>\n",
       "    <tr>\n",
       "      <th>40578</th>\n",
       "      <td>9341</td>\n",
       "      <td>timestampload</td>\n",
       "      <td>1583926381248</td>\n",
       "      <td>2020-03-11 12:33:11</td>\n",
       "    </tr>\n",
       "    <tr>\n",
       "      <th>702263</th>\n",
       "      <td>3760</td>\n",
       "      <td>timestampcl</td>\n",
       "      <td>1600933184127,1600933184695,1600933185184,1600...</td>\n",
       "      <td>2020-09-24 09:39:46</td>\n",
       "    </tr>\n",
       "  </tbody>\n",
       "</table>\n",
       "</div>"
      ],
      "text/plain": [
       "         idll_vo3lv           name  \\\n",
       "primary                              \n",
       "1037228        2072    timestampsm   \n",
       "395476         6891       numbercl   \n",
       "776583           35       statuscl   \n",
       "17812          4902       numbercl   \n",
       "293798          131    timestampsm   \n",
       "3059           9032    timestampcl   \n",
       "667199         7406    timestampcl   \n",
       "314921         9638    timestampcl   \n",
       "52081          7734      patternsm   \n",
       "155504         1938    timestampsm   \n",
       "627076          652       numbercl   \n",
       "1112740        7663       numbercl   \n",
       "930954         8381  timestampload   \n",
       "1093625        8663    timestampcl   \n",
       "187102         4390       numbercl   \n",
       "426081         4015       statuscl   \n",
       "144665         3309    timestampcl   \n",
       "485722         5177       numbercl   \n",
       "1085024        4553    timestampsm   \n",
       "875716         1376       numbercl   \n",
       "51506          8535    timestampsm   \n",
       "318317         3889    timestampcl   \n",
       "639535          764      patternsm   \n",
       "40578          9341  timestampload   \n",
       "702263         3760    timestampcl   \n",
       "\n",
       "                                                     value  \\\n",
       "primary                                                      \n",
       "1037228                                               1520   \n",
       "395476                                               1,2,7   \n",
       "776583                                           1,1,1,1,1   \n",
       "17812                                                  NaN   \n",
       "293798                                                 608   \n",
       "3059                                         1583745294328   \n",
       "667199                                       1600758903694   \n",
       "314921                                       1592908988181   \n",
       "52081                                      0,0,1,0,0,0,1,1   \n",
       "155504                                                1655   \n",
       "627076                                         6,7,7,7,7,7   \n",
       "1112740                                              3,2,5   \n",
       "930954                                       1602491471723   \n",
       "1093625          1605002356909,1605002357481,1605002358387   \n",
       "187102                                                 6,3   \n",
       "426081                                                 NaN   \n",
       "144665           1591877828893,1591877829190,1591877829425   \n",
       "485722                                               4,8,5   \n",
       "1085024                                               4377   \n",
       "875716                                                 7,8   \n",
       "51506                                                 1552   \n",
       "318317                                       1592911250971   \n",
       "639535                                     0,0,0,1,0,0,0,0   \n",
       "40578                                        1583926381248   \n",
       "702263   1600933184127,1600933184695,1600933185184,1600...   \n",
       "\n",
       "                   timestamp  \n",
       "primary                       \n",
       "1037228  2020-11-03 13:33:13  \n",
       "395476   2020-06-29 09:21:45  \n",
       "776583   2020-09-28 11:12:01  \n",
       "17812    2020-03-10 10:32:34  \n",
       "293798   2020-06-22 12:19:15  \n",
       "3059     2020-03-09 10:14:55  \n",
       "667199   2020-09-22 09:15:04  \n",
       "314921   2020-06-23 12:43:07  \n",
       "52081    2020-03-12 08:59:50  \n",
       "155504   2020-06-12 10:18:41  \n",
       "627076   2020-09-17 12:00:26  \n",
       "1112740  2020-11-13 09:47:19  \n",
       "930954   2020-10-12 10:31:13  \n",
       "1093625  2020-11-10 10:59:25  \n",
       "187102   2020-06-16 12:38:04  \n",
       "426081   2020-06-30 17:05:15  \n",
       "144665   2020-06-11 14:17:10  \n",
       "485722   2020-07-03 10:46:45  \n",
       "1085024  2020-11-09 10:45:15  \n",
       "875716   2020-10-05 10:50:00  \n",
       "51506    2020-03-12 08:59:08  \n",
       "318317   2020-06-23 13:20:52  \n",
       "639535   2020-09-21 08:56:05  \n",
       "40578    2020-03-11 12:33:11  \n",
       "702263   2020-09-24 09:39:46  "
      ]
     },
     "execution_count": 40,
     "metadata": {},
     "output_type": "execute_result"
    }
   ],
   "source": [
    "df1.sample(25)"
   ]
  },
  {
   "cell_type": "markdown",
   "metadata": {},
   "source": [
    " For making our data ready for analysis, we need enough features. For example, the `name` column's values can be turned to features and make the `timestamp` unique since it represente each submission of a student.\\n\",\n",
    "    \"Let's use the function `pivot_table` to make our dataframe wide. for this we will make `timestamp`and `idll_vo3lv`our new indices and values of `name` will be new columns."
   ]
  },
  {
   "cell_type": "code",
   "execution_count": 41,
   "metadata": {},
   "outputs": [
    {
     "data": {
      "text/html": [
       "<div>\n",
       "<style scoped>\n",
       "    .dataframe tbody tr th:only-of-type {\n",
       "        vertical-align: middle;\n",
       "    }\n",
       "\n",
       "    .dataframe tbody tr th {\n",
       "        vertical-align: top;\n",
       "    }\n",
       "\n",
       "    .dataframe thead th {\n",
       "        text-align: right;\n",
       "    }\n",
       "</style>\n",
       "<table border=\"1\" class=\"dataframe\">\n",
       "  <thead>\n",
       "    <tr style=\"text-align: right;\">\n",
       "      <th>name</th>\n",
       "      <th>idll_vo3lv</th>\n",
       "      <th>timestamp</th>\n",
       "      <th>numbercl</th>\n",
       "      <th>patternsm</th>\n",
       "      <th>statuscl</th>\n",
       "      <th>timestampcl</th>\n",
       "      <th>timestampload</th>\n",
       "      <th>timestampsm</th>\n",
       "    </tr>\n",
       "  </thead>\n",
       "  <tbody>\n",
       "    <tr>\n",
       "      <th>0</th>\n",
       "      <td>1</td>\n",
       "      <td>2020-03-09 09:32:32</td>\n",
       "      <td>3,7</td>\n",
       "      <td>0,0,1,0,0,0,1,0</td>\n",
       "      <td>1,1</td>\n",
       "      <td>1583742751461,1583742751869</td>\n",
       "      <td>1583742749790</td>\n",
       "      <td>2520</td>\n",
       "    </tr>\n",
       "    <tr>\n",
       "      <th>1</th>\n",
       "      <td>1</td>\n",
       "      <td>2020-03-09 09:32:35</td>\n",
       "      <td>2,1</td>\n",
       "      <td>1,1,0,0,0,0,0,0</td>\n",
       "      <td>1,1</td>\n",
       "      <td>1583742753766,1583742754238</td>\n",
       "      <td>1583742752391</td>\n",
       "      <td>2576</td>\n",
       "    </tr>\n",
       "    <tr>\n",
       "      <th>2</th>\n",
       "      <td>1</td>\n",
       "      <td>2020-03-09 09:32:37</td>\n",
       "      <td>3,4</td>\n",
       "      <td>0,0,1,1,0,0,0,0</td>\n",
       "      <td>1,1</td>\n",
       "      <td>1583742756412,1583742756876</td>\n",
       "      <td>1583742755058</td>\n",
       "      <td>2541</td>\n",
       "    </tr>\n",
       "    <tr>\n",
       "      <th>3</th>\n",
       "      <td>1</td>\n",
       "      <td>2020-03-09 09:32:40</td>\n",
       "      <td>8,6</td>\n",
       "      <td>0,0,0,0,0,1,0,1</td>\n",
       "      <td>1,1</td>\n",
       "      <td>1583742759029,1583742759476</td>\n",
       "      <td>1583742757674</td>\n",
       "      <td>2540</td>\n",
       "    </tr>\n",
       "    <tr>\n",
       "      <th>4</th>\n",
       "      <td>1</td>\n",
       "      <td>2020-03-09 09:32:42</td>\n",
       "      <td>4,3</td>\n",
       "      <td>0,0,1,1,0,0,0,0</td>\n",
       "      <td>1,1</td>\n",
       "      <td>1583742761381,1583742762222</td>\n",
       "      <td>1583742760309</td>\n",
       "      <td>2384</td>\n",
       "    </tr>\n",
       "    <tr>\n",
       "      <th>...</th>\n",
       "      <td>...</td>\n",
       "      <td>...</td>\n",
       "      <td>...</td>\n",
       "      <td>...</td>\n",
       "      <td>...</td>\n",
       "      <td>...</td>\n",
       "      <td>...</td>\n",
       "      <td>...</td>\n",
       "    </tr>\n",
       "    <tr>\n",
       "      <th>185139</th>\n",
       "      <td>10058</td>\n",
       "      <td>2020-12-04 12:15:51</td>\n",
       "      <td>1,5</td>\n",
       "      <td>1,0,0,0,1,0,0,0</td>\n",
       "      <td>1,1</td>\n",
       "      <td>1607080547519,1607080548139</td>\n",
       "      <td>1607080546777</td>\n",
       "      <td>2113</td>\n",
       "    </tr>\n",
       "    <tr>\n",
       "      <th>185140</th>\n",
       "      <td>10058</td>\n",
       "      <td>2020-12-04 12:15:53</td>\n",
       "      <td>3,8</td>\n",
       "      <td>0,0,1,0,0,0,0,1</td>\n",
       "      <td>1,1</td>\n",
       "      <td>1607080549806,1607080550351</td>\n",
       "      <td>1607080549305</td>\n",
       "      <td>1529</td>\n",
       "    </tr>\n",
       "    <tr>\n",
       "      <th>185141</th>\n",
       "      <td>10058</td>\n",
       "      <td>2020-12-04 12:15:56</td>\n",
       "      <td>3,7</td>\n",
       "      <td>0,0,1,0,0,0,1,0</td>\n",
       "      <td>1,1</td>\n",
       "      <td>1607080552454,1607080553061</td>\n",
       "      <td>1607080551211</td>\n",
       "      <td>2566</td>\n",
       "    </tr>\n",
       "    <tr>\n",
       "      <th>185142</th>\n",
       "      <td>10058</td>\n",
       "      <td>2020-12-04 12:15:57</td>\n",
       "      <td>NaN</td>\n",
       "      <td>0,0,0,0,0,0,0,0</td>\n",
       "      <td>NaN</td>\n",
       "      <td>NaN</td>\n",
       "      <td>1607080554234</td>\n",
       "      <td>875</td>\n",
       "    </tr>\n",
       "    <tr>\n",
       "      <th>185143</th>\n",
       "      <td>10058</td>\n",
       "      <td>2020-12-04 12:16:02</td>\n",
       "      <td>4,5,3</td>\n",
       "      <td>0,0,1,1,1,0,0,0</td>\n",
       "      <td>1,1,1</td>\n",
       "      <td>1607080555960,1607080556889,1607080559545</td>\n",
       "      <td>1607080555528</td>\n",
       "      <td>4489</td>\n",
       "    </tr>\n",
       "  </tbody>\n",
       "</table>\n",
       "<p>185144 rows × 8 columns</p>\n",
       "</div>"
      ],
      "text/plain": [
       "name    idll_vo3lv            timestamp numbercl        patternsm statuscl  \\\n",
       "0                1  2020-03-09 09:32:32      3,7  0,0,1,0,0,0,1,0      1,1   \n",
       "1                1  2020-03-09 09:32:35      2,1  1,1,0,0,0,0,0,0      1,1   \n",
       "2                1  2020-03-09 09:32:37      3,4  0,0,1,1,0,0,0,0      1,1   \n",
       "3                1  2020-03-09 09:32:40      8,6  0,0,0,0,0,1,0,1      1,1   \n",
       "4                1  2020-03-09 09:32:42      4,3  0,0,1,1,0,0,0,0      1,1   \n",
       "...            ...                  ...      ...              ...      ...   \n",
       "185139       10058  2020-12-04 12:15:51      1,5  1,0,0,0,1,0,0,0      1,1   \n",
       "185140       10058  2020-12-04 12:15:53      3,8  0,0,1,0,0,0,0,1      1,1   \n",
       "185141       10058  2020-12-04 12:15:56      3,7  0,0,1,0,0,0,1,0      1,1   \n",
       "185142       10058  2020-12-04 12:15:57      NaN  0,0,0,0,0,0,0,0      NaN   \n",
       "185143       10058  2020-12-04 12:16:02    4,5,3  0,0,1,1,1,0,0,0    1,1,1   \n",
       "\n",
       "name                                  timestampcl  timestampload timestampsm  \n",
       "0                     1583742751461,1583742751869  1583742749790        2520  \n",
       "1                     1583742753766,1583742754238  1583742752391        2576  \n",
       "2                     1583742756412,1583742756876  1583742755058        2541  \n",
       "3                     1583742759029,1583742759476  1583742757674        2540  \n",
       "4                     1583742761381,1583742762222  1583742760309        2384  \n",
       "...                                           ...            ...         ...  \n",
       "185139                1607080547519,1607080548139  1607080546777        2113  \n",
       "185140                1607080549806,1607080550351  1607080549305        1529  \n",
       "185141                1607080552454,1607080553061  1607080551211        2566  \n",
       "185142                                        NaN  1607080554234         875  \n",
       "185143  1607080555960,1607080556889,1607080559545  1607080555528        4489  \n",
       "\n",
       "[185144 rows x 8 columns]"
      ]
     },
     "execution_count": 41,
     "metadata": {},
     "output_type": "execute_result"
    }
   ],
   "source": [
    "# Pivoting dataframe to extract values of name column as separate columns and leaving the timestamp and idll_vo3lv as indexes\n",
    "pivoted_df = df1.pivot_table(index=['idll_vo3lv', 'timestamp'], columns='name', values='value', aggfunc='first')\n",
    "\n",
    "# Assigning pivoted_df to df to make variable name smaller\n",
    "df1 = pivoted_df\n",
    "\n",
    "df1 = df1.reset_index()[['idll_vo3lv', 'timestamp', 'numbercl', 'patternsm', 'statuscl', 'timestampcl', 'timestampload', 'timestampsm']]\n",
    "\n",
    "df1"
   ]
  },
  {
   "cell_type": "markdown",
   "metadata": {},
   "source": [
    "Now that the dataset is more like we expected we can do proper data understanding. we first started by looking at the general info about the data."
   ]
  },
  {
   "cell_type": "code",
   "execution_count": 42,
   "metadata": {},
   "outputs": [
    {
     "name": "stdout",
     "output_type": "stream",
     "text": [
      "<class 'pandas.core.frame.DataFrame'>\n",
      "RangeIndex: 185144 entries, 0 to 185143\n",
      "Data columns (total 8 columns):\n",
      " #   Column         Non-Null Count   Dtype \n",
      "---  ------         --------------   ----- \n",
      " 0   idll_vo3lv     185144 non-null  int64 \n",
      " 1   timestamp      185144 non-null  object\n",
      " 2   numbercl       176414 non-null  object\n",
      " 3   patternsm      182868 non-null  object\n",
      " 4   statuscl       176415 non-null  object\n",
      " 5   timestampcl    176411 non-null  object\n",
      " 6   timestampload  182869 non-null  object\n",
      " 7   timestampsm    182866 non-null  object\n",
      "dtypes: int64(1), object(7)\n",
      "memory usage: 11.3+ MB\n"
     ]
    }
   ],
   "source": [
    "df1.info()"
   ]
  },
  {
   "cell_type": "markdown",
   "metadata": {},
   "source": [
    "From this we can conclude multiple things: \n",
    "1. there are some null values what we have to look at. \n",
    "2. there a couple of columns where you would expect a date time or another sort of time series datatype. \n",
    "3. there is no score calculated(they way the would do normally with the five-point test)"
   ]
  },
  {
   "cell_type": "markdown",
   "metadata": {},
   "source": [
    "#### Handling null values"
   ]
  },
  {
   "cell_type": "code",
   "execution_count": 43,
   "metadata": {},
   "outputs": [
    {
     "data": {
      "text/plain": [
       "name\n",
       "idll_vo3lv          0\n",
       "timestamp           0\n",
       "numbercl         8730\n",
       "patternsm        2276\n",
       "statuscl         8729\n",
       "timestampcl      8733\n",
       "timestampload    2275\n",
       "timestampsm      2278\n",
       "dtype: int64"
      ]
     },
     "execution_count": 43,
     "metadata": {},
     "output_type": "execute_result"
    }
   ],
   "source": [
    "df1.isnull().sum()\n"
   ]
  },
  {
   "cell_type": "markdown",
   "metadata": {},
   "source": [
    "Using `sns heatmap` library to visualize missing values.\n",
    "\n",
    "As we can see below, this figure shows which column have mising values and the relation they have with other columns."
   ]
  },
  {
   "cell_type": "code",
   "execution_count": 44,
   "metadata": {},
   "outputs": [
    {
     "data": {
      "image/png": "[encoded data removed]",
      "text/plain": [
       "<Figure size 1400x600 with 1 Axes>"
      ]
     },
     "metadata": {},
     "output_type": "display_data"
    }
   ],
   "source": [
    "plt.figure(figsize=(14, 6 ))\n",
    "sns.heatmap(df1.isnull(), cmap='viridis', cbar=False, yticklabels=False)\n",
    "plt.title('Missing Data: Yellow Lines represent Missing Values')\n",
    "plt.show()"
   ]
  },
  {
   "cell_type": "markdown",
   "metadata": {},
   "source": [
    "Let's also plot the relation of a presence of null value in a column to another using a `Missingno` heat map. Ref: [Visualize Missing Values](https://towardsdatascience.com/using-the-missingno-python-library-to-identify-and-visualise-missing-data-prior-to-machine-learning-34c8c5b5f009)"
   ]
  },
  {
   "cell_type": "code",
   "execution_count": 45,
   "metadata": {},
   "outputs": [
    {
     "data": {
      "text/plain": [
       "<Axes: xlabel='name', ylabel='name'>"
      ]
     },
     "execution_count": 45,
     "metadata": {},
     "output_type": "execute_result"
    },
    {
     "data": {
      "image/png": "[encoded data removed]",
      "text/plain": [
       "<Figure size 2000x1200 with 2 Axes>"
      ]
     },
     "metadata": {},
     "output_type": "display_data"
    }
   ],
   "source": [
    "import missingno as msno\n",
    "msno.heatmap(df1)"
   ]
  },
  {
   "cell_type": "markdown",
   "metadata": {},
   "source": [
    "Let's first verify if our data contains duplicates before we decide on missing data"
   ]
  },
  {
   "cell_type": "code",
   "execution_count": 46,
   "metadata": {},
   "outputs": [
    {
     "data": {
      "text/plain": [
       "False    185144\n",
       "Name: count, dtype: int64"
      ]
     },
     "execution_count": 46,
     "metadata": {},
     "output_type": "execute_result"
    }
   ],
   "source": [
    "df1.duplicated().value_counts()"
   ]
  },
  {
   "cell_type": "markdown",
   "metadata": {},
   "source": [
    "Let's verify for how many students we have missing values\n",
    "We will reset the index so that we can use the column `idll_vo3lv`"
   ]
  },
  {
   "cell_type": "code",
   "execution_count": 47,
   "metadata": {},
   "outputs": [
    {
     "data": {
      "text/plain": [
       "3268"
      ]
     },
     "execution_count": 47,
     "metadata": {},
     "output_type": "execute_result"
    }
   ],
   "source": [
    "rows_missing_data=df1[df1.isnull().any(axis=1)]\n",
    "rows_missing_data=rows_missing_data.reset_index()\n",
    "len(rows_missing_data.idll_vo3lv.unique())"
   ]
  },
  {
   "cell_type": "markdown",
   "metadata": {},
   "source": [
    "#### Converting time series data"
   ]
  },
  {
   "cell_type": "code",
   "execution_count": 48,
   "metadata": {},
   "outputs": [
    {
     "data": {
      "text/plain": [
       "name\n",
       "idll_vo3lv                int64\n",
       "timestamp        datetime64[ns]\n",
       "numbercl                 object\n",
       "patternsm                object\n",
       "statuscl                 object\n",
       "timestampcl              object\n",
       "timestampload            object\n",
       "timestampsm              object\n",
       "dtype: object"
      ]
     },
     "execution_count": 48,
     "metadata": {},
     "output_type": "execute_result"
    }
   ],
   "source": [
    "# Convert columns to proper datatypes\n",
    "df1['timestamp'] = pd.to_datetime(df1['timestamp'])\n",
    "\n",
    "# Check the updated data types\n",
    "df1.dtypes\n"
   ]
  },
  {
   "cell_type": "markdown",
   "metadata": {},
   "source": [
    "Now that we handled all the other problem we are goiung to make a new column where we calculated the score of each child. "
   ]
  },
  {
   "cell_type": "code",
   "execution_count": 49,
   "metadata": {},
   "outputs": [
    {
     "data": {
      "text/html": [
       "<div>\n",
       "<style scoped>\n",
       "    .dataframe tbody tr th:only-of-type {\n",
       "        vertical-align: middle;\n",
       "    }\n",
       "\n",
       "    .dataframe tbody tr th {\n",
       "        vertical-align: top;\n",
       "    }\n",
       "\n",
       "    .dataframe thead th {\n",
       "        text-align: right;\n",
       "    }\n",
       "</style>\n",
       "<table border=\"1\" class=\"dataframe\">\n",
       "  <thead>\n",
       "    <tr style=\"text-align: right;\">\n",
       "      <th>name</th>\n",
       "      <th>idll_vo3lv</th>\n",
       "      <th>timestamp</th>\n",
       "      <th>numbercl</th>\n",
       "      <th>patternsm</th>\n",
       "      <th>statuscl</th>\n",
       "      <th>timestampcl</th>\n",
       "      <th>timestampload</th>\n",
       "      <th>timestampsm</th>\n",
       "      <th>score</th>\n",
       "    </tr>\n",
       "  </thead>\n",
       "  <tbody>\n",
       "    <tr>\n",
       "      <th>0</th>\n",
       "      <td>1</td>\n",
       "      <td>2020-03-09 09:32:32</td>\n",
       "      <td>3,7</td>\n",
       "      <td>0,0,1,0,0,0,1,0</td>\n",
       "      <td>1,1</td>\n",
       "      <td>1583742751461,1583742751869</td>\n",
       "      <td>1583742749790</td>\n",
       "      <td>2520</td>\n",
       "      <td>6</td>\n",
       "    </tr>\n",
       "    <tr>\n",
       "      <th>1</th>\n",
       "      <td>1</td>\n",
       "      <td>2020-03-09 09:32:35</td>\n",
       "      <td>2,1</td>\n",
       "      <td>1,1,0,0,0,0,0,0</td>\n",
       "      <td>1,1</td>\n",
       "      <td>1583742753766,1583742754238</td>\n",
       "      <td>1583742752391</td>\n",
       "      <td>2576</td>\n",
       "      <td>6</td>\n",
       "    </tr>\n",
       "    <tr>\n",
       "      <th>2</th>\n",
       "      <td>1</td>\n",
       "      <td>2020-03-09 09:32:37</td>\n",
       "      <td>3,4</td>\n",
       "      <td>0,0,1,1,0,0,0,0</td>\n",
       "      <td>1,1</td>\n",
       "      <td>1583742756412,1583742756876</td>\n",
       "      <td>1583742755058</td>\n",
       "      <td>2541</td>\n",
       "      <td>6</td>\n",
       "    </tr>\n",
       "    <tr>\n",
       "      <th>3</th>\n",
       "      <td>1</td>\n",
       "      <td>2020-03-09 09:32:40</td>\n",
       "      <td>8,6</td>\n",
       "      <td>0,0,0,0,0,1,0,1</td>\n",
       "      <td>1,1</td>\n",
       "      <td>1583742759029,1583742759476</td>\n",
       "      <td>1583742757674</td>\n",
       "      <td>2540</td>\n",
       "      <td>6</td>\n",
       "    </tr>\n",
       "    <tr>\n",
       "      <th>4</th>\n",
       "      <td>1</td>\n",
       "      <td>2020-03-09 09:32:42</td>\n",
       "      <td>4,3</td>\n",
       "      <td>0,0,1,1,0,0,0,0</td>\n",
       "      <td>1,1</td>\n",
       "      <td>1583742761381,1583742762222</td>\n",
       "      <td>1583742760309</td>\n",
       "      <td>2384</td>\n",
       "      <td>6</td>\n",
       "    </tr>\n",
       "    <tr>\n",
       "      <th>...</th>\n",
       "      <td>...</td>\n",
       "      <td>...</td>\n",
       "      <td>...</td>\n",
       "      <td>...</td>\n",
       "      <td>...</td>\n",
       "      <td>...</td>\n",
       "      <td>...</td>\n",
       "      <td>...</td>\n",
       "      <td>...</td>\n",
       "    </tr>\n",
       "    <tr>\n",
       "      <th>185139</th>\n",
       "      <td>10058</td>\n",
       "      <td>2020-12-04 12:15:51</td>\n",
       "      <td>1,5</td>\n",
       "      <td>1,0,0,0,1,0,0,0</td>\n",
       "      <td>1,1</td>\n",
       "      <td>1607080547519,1607080548139</td>\n",
       "      <td>1607080546777</td>\n",
       "      <td>2113</td>\n",
       "      <td>52</td>\n",
       "    </tr>\n",
       "    <tr>\n",
       "      <th>185140</th>\n",
       "      <td>10058</td>\n",
       "      <td>2020-12-04 12:15:53</td>\n",
       "      <td>3,8</td>\n",
       "      <td>0,0,1,0,0,0,0,1</td>\n",
       "      <td>1,1</td>\n",
       "      <td>1607080549806,1607080550351</td>\n",
       "      <td>1607080549305</td>\n",
       "      <td>1529</td>\n",
       "      <td>52</td>\n",
       "    </tr>\n",
       "    <tr>\n",
       "      <th>185141</th>\n",
       "      <td>10058</td>\n",
       "      <td>2020-12-04 12:15:56</td>\n",
       "      <td>3,7</td>\n",
       "      <td>0,0,1,0,0,0,1,0</td>\n",
       "      <td>1,1</td>\n",
       "      <td>1607080552454,1607080553061</td>\n",
       "      <td>1607080551211</td>\n",
       "      <td>2566</td>\n",
       "      <td>52</td>\n",
       "    </tr>\n",
       "    <tr>\n",
       "      <th>185142</th>\n",
       "      <td>10058</td>\n",
       "      <td>2020-12-04 12:15:57</td>\n",
       "      <td>NaN</td>\n",
       "      <td>0,0,0,0,0,0,0,0</td>\n",
       "      <td>NaN</td>\n",
       "      <td>NaN</td>\n",
       "      <td>1607080554234</td>\n",
       "      <td>875</td>\n",
       "      <td>52</td>\n",
       "    </tr>\n",
       "    <tr>\n",
       "      <th>185143</th>\n",
       "      <td>10058</td>\n",
       "      <td>2020-12-04 12:16:02</td>\n",
       "      <td>4,5,3</td>\n",
       "      <td>0,0,1,1,1,0,0,0</td>\n",
       "      <td>1,1,1</td>\n",
       "      <td>1607080555960,1607080556889,1607080559545</td>\n",
       "      <td>1607080555528</td>\n",
       "      <td>4489</td>\n",
       "      <td>52</td>\n",
       "    </tr>\n",
       "  </tbody>\n",
       "</table>\n",
       "<p>185144 rows × 9 columns</p>\n",
       "</div>"
      ],
      "text/plain": [
       "name    idll_vo3lv           timestamp numbercl        patternsm statuscl  \\\n",
       "0                1 2020-03-09 09:32:32      3,7  0,0,1,0,0,0,1,0      1,1   \n",
       "1                1 2020-03-09 09:32:35      2,1  1,1,0,0,0,0,0,0      1,1   \n",
       "2                1 2020-03-09 09:32:37      3,4  0,0,1,1,0,0,0,0      1,1   \n",
       "3                1 2020-03-09 09:32:40      8,6  0,0,0,0,0,1,0,1      1,1   \n",
       "4                1 2020-03-09 09:32:42      4,3  0,0,1,1,0,0,0,0      1,1   \n",
       "...            ...                 ...      ...              ...      ...   \n",
       "185139       10058 2020-12-04 12:15:51      1,5  1,0,0,0,1,0,0,0      1,1   \n",
       "185140       10058 2020-12-04 12:15:53      3,8  0,0,1,0,0,0,0,1      1,1   \n",
       "185141       10058 2020-12-04 12:15:56      3,7  0,0,1,0,0,0,1,0      1,1   \n",
       "185142       10058 2020-12-04 12:15:57      NaN  0,0,0,0,0,0,0,0      NaN   \n",
       "185143       10058 2020-12-04 12:16:02    4,5,3  0,0,1,1,1,0,0,0    1,1,1   \n",
       "\n",
       "name                                  timestampcl  timestampload timestampsm  \\\n",
       "0                     1583742751461,1583742751869  1583742749790        2520   \n",
       "1                     1583742753766,1583742754238  1583742752391        2576   \n",
       "2                     1583742756412,1583742756876  1583742755058        2541   \n",
       "3                     1583742759029,1583742759476  1583742757674        2540   \n",
       "4                     1583742761381,1583742762222  1583742760309        2384   \n",
       "...                                           ...            ...         ...   \n",
       "185139                1607080547519,1607080548139  1607080546777        2113   \n",
       "185140                1607080549806,1607080550351  1607080549305        1529   \n",
       "185141                1607080552454,1607080553061  1607080551211        2566   \n",
       "185142                                        NaN  1607080554234         875   \n",
       "185143  1607080555960,1607080556889,1607080559545  1607080555528        4489   \n",
       "\n",
       "name    score  \n",
       "0           6  \n",
       "1           6  \n",
       "2           6  \n",
       "3           6  \n",
       "4           6  \n",
       "...       ...  \n",
       "185139     52  \n",
       "185140     52  \n",
       "185141     52  \n",
       "185142     52  \n",
       "185143     52  \n",
       "\n",
       "[185144 rows x 9 columns]"
      ]
     },
     "execution_count": 49,
     "metadata": {},
     "output_type": "execute_result"
    }
   ],
   "source": [
    "# Group by 'idll_vo3lv' and count unique values in 'patternsm'\n",
    "unique_score = df1.groupby('idll_vo3lv')['patternsm'].transform('nunique')\n",
    "\n",
    "# Create a new column 'score' in the DataFrame\n",
    "df1['score'] = unique_score.astype(int)\n",
    "df1"
   ]
  },
  {
   "cell_type": "code",
   "execution_count": 50,
   "metadata": {},
   "outputs": [
    {
     "data": {
      "text/plain": [
       "78"
      ]
     },
     "execution_count": 50,
     "metadata": {},
     "output_type": "execute_result"
    }
   ],
   "source": [
    "len(df1[\"score\"].unique())"
   ]
  },
  {
   "cell_type": "code",
   "execution_count": 51,
   "metadata": {},
   "outputs": [
    {
     "data": {
      "text/plain": [
       "<matplotlib.collections.PathCollection at 0x1fac5208650>"
      ]
     },
     "execution_count": 51,
     "metadata": {},
     "output_type": "execute_result"
    },
    {
     "data": {
      "image/png": "[encoded data removed]",
      "text/plain": [
       "<Figure size 640x480 with 1 Axes>"
      ]
     },
     "metadata": {},
     "output_type": "display_data"
    }
   ],
   "source": [
    "plt.scatter(x = df1['idll_vo3lv'], y= df1['score'], s=5, color = \"lightgreen\")"
   ]
  },
  {
   "cell_type": "markdown",
   "metadata": {},
   "source": [
    "This graph shows that there is a rather wide range in the number unique patterns that students were able to create. It's also clear that the majority of students were able to create 20 to 40 different patterns."
   ]
  },
  {
   "cell_type": "code",
   "execution_count": 52,
   "metadata": {},
   "outputs": [
    {
     "data": {
      "text/plain": [
       "Text(0.5, 1.0, 'Distribution of Patterns')"
      ]
     },
     "execution_count": 52,
     "metadata": {},
     "output_type": "execute_result"
    },
    {
     "data": {
      "image/png": "[encoded data removed]",
      "text/plain": [
       "<Figure size 1000x600 with 1 Axes>"
      ]
     },
     "metadata": {},
     "output_type": "display_data"
    }
   ],
   "source": [
    "# Create the DataFrame with grouped data\n",
    "df_resultstudents = df1.groupby('idll_vo3lv')['patternsm'].nunique().reset_index()\n",
    "\n",
    "# Set figure size and style\n",
    "plt.figure(figsize=(10, 6))\n",
    "sns.set(style='whitegrid')\n",
    "\n",
    "# Create and customize the histogram\n",
    "sns.histplot(data=df_resultstudents, x=\"patternsm\", kde=True, color=\"lightgreen\")\n",
    "\n",
    "# Set labels and title\n",
    "plt.xlabel(\"Patterns\")\n",
    "plt.ylabel(\"Count\")\n",
    "plt.title(\"Distribution of Patterns\")"
   ]
  },
  {
   "cell_type": "markdown",
   "metadata": {},
   "source": [
    "It is clear from this graph that the scores have a normal distribution. In fact, you can see that a great deal of scores fall between 30 and 45, peaking at 35."
   ]
  },
  {
   "cell_type": "markdown",
   "metadata": {},
   "source": [
    "We need to change the data type of the columns `timestampload` and `timestampsm` so that they can be used in checking correlation and probably selected as features.\n",
    "Before that we need first to fill NaN values for these timestamps. We will fill `0` on missing timestamps."
   ]
  },
  {
   "cell_type": "code",
   "execution_count": 53,
   "metadata": {},
   "outputs": [],
   "source": [
    "# import pandas as pd\n",
    "\n",
    "# # Splitting sequence of clicks timestamps to a list\n",
    "# clicks_timestamps = df1['timestampcl'].str.split(',', n=7, expand=True)\n",
    "\n",
    "# # Convert the columns to datetime objects\n",
    "# for i in range(1, 9):\n",
    "#     col_name = f'{i}stclicktimestamp'\n",
    "#     df1[col_name] = pd.to_datetime(clicks_timestamps[i - 1], unit='ms', errors='coerce')\n",
    "\n",
    "# # Dropping the previously used column\n",
    "# df1 = df1.drop(columns=['timestampcl'])"
   ]
  },
  {
   "cell_type": "code",
   "execution_count": 54,
   "metadata": {},
   "outputs": [
    {
     "name": "stdout",
     "output_type": "stream",
     "text": [
      "<class 'pandas.core.frame.DataFrame'>\n",
      "RangeIndex: 185144 entries, 0 to 185143\n",
      "Data columns (total 9 columns):\n",
      " #   Column         Non-Null Count   Dtype         \n",
      "---  ------         --------------   -----         \n",
      " 0   idll_vo3lv     185144 non-null  int64         \n",
      " 1   timestamp      185144 non-null  datetime64[ns]\n",
      " 2   numbercl       176414 non-null  object        \n",
      " 3   patternsm      182868 non-null  object        \n",
      " 4   statuscl       176415 non-null  object        \n",
      " 5   timestampcl    176411 non-null  object        \n",
      " 6   timestampload  182869 non-null  object        \n",
      " 7   timestampsm    182866 non-null  object        \n",
      " 8   score          185144 non-null  int32         \n",
      "dtypes: datetime64[ns](1), int32(1), int64(1), object(6)\n",
      "memory usage: 12.0+ MB\n"
     ]
    }
   ],
   "source": [
    "df1.info()"
   ]
  },
  {
   "cell_type": "code",
   "execution_count": 55,
   "metadata": {},
   "outputs": [],
   "source": [
    "# df1['1stclicktimestamp']= df1['1stclicktimestamp'].dt.time\n",
    "# df1['2stclicktimestamp']= df1['2stclicktimestamp'].dt.time\n",
    "# df1['3stclicktimestamp']= df1['3stclicktimestamp'].dt.time\n",
    "# df1['4stclicktimestamp']= df1['4stclicktimestamp'].dt.time\n",
    "# df1['5stclicktimestamp']= df1['5stclicktimestamp'].dt.time\n",
    "# df1['6stclicktimestamp']= df1['6stclicktimestamp'].dt.time\n",
    "# df1['7stclicktimestamp']= df1['7stclicktimestamp'].dt.time"
   ]
  },
  {
   "cell_type": "code",
   "execution_count": 56,
   "metadata": {},
   "outputs": [],
   "source": [
    "# Fill both NaT and NaN with 0\n",
    "df1 = df1.fillna(0)\n"
   ]
  },
  {
   "cell_type": "code",
   "execution_count": 57,
   "metadata": {},
   "outputs": [],
   "source": [
    "\n",
    "# # Convert the 'timestampload' column to datetime and then extract the time component\n",
    "# df1['timestampload'] = pd.to_datetime(df1['timestampload'], unit='ms', errors='coerce').dt.time\n",
    "\n"
   ]
  },
  {
   "cell_type": "code",
   "execution_count": 58,
   "metadata": {},
   "outputs": [
    {
     "data": {
      "text/html": [
       "<div>\n",
       "<style scoped>\n",
       "    .dataframe tbody tr th:only-of-type {\n",
       "        vertical-align: middle;\n",
       "    }\n",
       "\n",
       "    .dataframe tbody tr th {\n",
       "        vertical-align: top;\n",
       "    }\n",
       "\n",
       "    .dataframe thead th {\n",
       "        text-align: right;\n",
       "    }\n",
       "</style>\n",
       "<table border=\"1\" class=\"dataframe\">\n",
       "  <thead>\n",
       "    <tr style=\"text-align: right;\">\n",
       "      <th>name</th>\n",
       "      <th>idll_vo3lv</th>\n",
       "      <th>timestamp</th>\n",
       "      <th>numbercl</th>\n",
       "      <th>patternsm</th>\n",
       "      <th>statuscl</th>\n",
       "      <th>timestampcl</th>\n",
       "      <th>timestampload</th>\n",
       "      <th>timestampsm</th>\n",
       "      <th>score</th>\n",
       "    </tr>\n",
       "  </thead>\n",
       "  <tbody>\n",
       "    <tr>\n",
       "      <th>0</th>\n",
       "      <td>1</td>\n",
       "      <td>2020-03-09 09:32:32</td>\n",
       "      <td>3,7</td>\n",
       "      <td>0,0,1,0,0,0,1,0</td>\n",
       "      <td>1,1</td>\n",
       "      <td>1583742751461,1583742751869</td>\n",
       "      <td>1583742749790</td>\n",
       "      <td>2520</td>\n",
       "      <td>6</td>\n",
       "    </tr>\n",
       "    <tr>\n",
       "      <th>1</th>\n",
       "      <td>1</td>\n",
       "      <td>2020-03-09 09:32:35</td>\n",
       "      <td>2,1</td>\n",
       "      <td>1,1,0,0,0,0,0,0</td>\n",
       "      <td>1,1</td>\n",
       "      <td>1583742753766,1583742754238</td>\n",
       "      <td>1583742752391</td>\n",
       "      <td>2576</td>\n",
       "      <td>6</td>\n",
       "    </tr>\n",
       "    <tr>\n",
       "      <th>2</th>\n",
       "      <td>1</td>\n",
       "      <td>2020-03-09 09:32:37</td>\n",
       "      <td>3,4</td>\n",
       "      <td>0,0,1,1,0,0,0,0</td>\n",
       "      <td>1,1</td>\n",
       "      <td>1583742756412,1583742756876</td>\n",
       "      <td>1583742755058</td>\n",
       "      <td>2541</td>\n",
       "      <td>6</td>\n",
       "    </tr>\n",
       "    <tr>\n",
       "      <th>3</th>\n",
       "      <td>1</td>\n",
       "      <td>2020-03-09 09:32:40</td>\n",
       "      <td>8,6</td>\n",
       "      <td>0,0,0,0,0,1,0,1</td>\n",
       "      <td>1,1</td>\n",
       "      <td>1583742759029,1583742759476</td>\n",
       "      <td>1583742757674</td>\n",
       "      <td>2540</td>\n",
       "      <td>6</td>\n",
       "    </tr>\n",
       "    <tr>\n",
       "      <th>4</th>\n",
       "      <td>1</td>\n",
       "      <td>2020-03-09 09:32:42</td>\n",
       "      <td>4,3</td>\n",
       "      <td>0,0,1,1,0,0,0,0</td>\n",
       "      <td>1,1</td>\n",
       "      <td>1583742761381,1583742762222</td>\n",
       "      <td>1583742760309</td>\n",
       "      <td>2384</td>\n",
       "      <td>6</td>\n",
       "    </tr>\n",
       "    <tr>\n",
       "      <th>...</th>\n",
       "      <td>...</td>\n",
       "      <td>...</td>\n",
       "      <td>...</td>\n",
       "      <td>...</td>\n",
       "      <td>...</td>\n",
       "      <td>...</td>\n",
       "      <td>...</td>\n",
       "      <td>...</td>\n",
       "      <td>...</td>\n",
       "    </tr>\n",
       "    <tr>\n",
       "      <th>185139</th>\n",
       "      <td>10058</td>\n",
       "      <td>2020-12-04 12:15:51</td>\n",
       "      <td>1,5</td>\n",
       "      <td>1,0,0,0,1,0,0,0</td>\n",
       "      <td>1,1</td>\n",
       "      <td>1607080547519,1607080548139</td>\n",
       "      <td>1607080546777</td>\n",
       "      <td>2113</td>\n",
       "      <td>52</td>\n",
       "    </tr>\n",
       "    <tr>\n",
       "      <th>185140</th>\n",
       "      <td>10058</td>\n",
       "      <td>2020-12-04 12:15:53</td>\n",
       "      <td>3,8</td>\n",
       "      <td>0,0,1,0,0,0,0,1</td>\n",
       "      <td>1,1</td>\n",
       "      <td>1607080549806,1607080550351</td>\n",
       "      <td>1607080549305</td>\n",
       "      <td>1529</td>\n",
       "      <td>52</td>\n",
       "    </tr>\n",
       "    <tr>\n",
       "      <th>185141</th>\n",
       "      <td>10058</td>\n",
       "      <td>2020-12-04 12:15:56</td>\n",
       "      <td>3,7</td>\n",
       "      <td>0,0,1,0,0,0,1,0</td>\n",
       "      <td>1,1</td>\n",
       "      <td>1607080552454,1607080553061</td>\n",
       "      <td>1607080551211</td>\n",
       "      <td>2566</td>\n",
       "      <td>52</td>\n",
       "    </tr>\n",
       "    <tr>\n",
       "      <th>185142</th>\n",
       "      <td>10058</td>\n",
       "      <td>2020-12-04 12:15:57</td>\n",
       "      <td>0</td>\n",
       "      <td>0,0,0,0,0,0,0,0</td>\n",
       "      <td>0</td>\n",
       "      <td>0</td>\n",
       "      <td>1607080554234</td>\n",
       "      <td>875</td>\n",
       "      <td>52</td>\n",
       "    </tr>\n",
       "    <tr>\n",
       "      <th>185143</th>\n",
       "      <td>10058</td>\n",
       "      <td>2020-12-04 12:16:02</td>\n",
       "      <td>4,5,3</td>\n",
       "      <td>0,0,1,1,1,0,0,0</td>\n",
       "      <td>1,1,1</td>\n",
       "      <td>1607080555960,1607080556889,1607080559545</td>\n",
       "      <td>1607080555528</td>\n",
       "      <td>4489</td>\n",
       "      <td>52</td>\n",
       "    </tr>\n",
       "  </tbody>\n",
       "</table>\n",
       "<p>185144 rows × 9 columns</p>\n",
       "</div>"
      ],
      "text/plain": [
       "name    idll_vo3lv           timestamp numbercl        patternsm statuscl  \\\n",
       "0                1 2020-03-09 09:32:32      3,7  0,0,1,0,0,0,1,0      1,1   \n",
       "1                1 2020-03-09 09:32:35      2,1  1,1,0,0,0,0,0,0      1,1   \n",
       "2                1 2020-03-09 09:32:37      3,4  0,0,1,1,0,0,0,0      1,1   \n",
       "3                1 2020-03-09 09:32:40      8,6  0,0,0,0,0,1,0,1      1,1   \n",
       "4                1 2020-03-09 09:32:42      4,3  0,0,1,1,0,0,0,0      1,1   \n",
       "...            ...                 ...      ...              ...      ...   \n",
       "185139       10058 2020-12-04 12:15:51      1,5  1,0,0,0,1,0,0,0      1,1   \n",
       "185140       10058 2020-12-04 12:15:53      3,8  0,0,1,0,0,0,0,1      1,1   \n",
       "185141       10058 2020-12-04 12:15:56      3,7  0,0,1,0,0,0,1,0      1,1   \n",
       "185142       10058 2020-12-04 12:15:57        0  0,0,0,0,0,0,0,0        0   \n",
       "185143       10058 2020-12-04 12:16:02    4,5,3  0,0,1,1,1,0,0,0    1,1,1   \n",
       "\n",
       "name                                  timestampcl  timestampload timestampsm  \\\n",
       "0                     1583742751461,1583742751869  1583742749790        2520   \n",
       "1                     1583742753766,1583742754238  1583742752391        2576   \n",
       "2                     1583742756412,1583742756876  1583742755058        2541   \n",
       "3                     1583742759029,1583742759476  1583742757674        2540   \n",
       "4                     1583742761381,1583742762222  1583742760309        2384   \n",
       "...                                           ...            ...         ...   \n",
       "185139                1607080547519,1607080548139  1607080546777        2113   \n",
       "185140                1607080549806,1607080550351  1607080549305        1529   \n",
       "185141                1607080552454,1607080553061  1607080551211        2566   \n",
       "185142                                          0  1607080554234         875   \n",
       "185143  1607080555960,1607080556889,1607080559545  1607080555528        4489   \n",
       "\n",
       "name    score  \n",
       "0           6  \n",
       "1           6  \n",
       "2           6  \n",
       "3           6  \n",
       "4           6  \n",
       "...       ...  \n",
       "185139     52  \n",
       "185140     52  \n",
       "185141     52  \n",
       "185142     52  \n",
       "185143     52  \n",
       "\n",
       "[185144 rows x 9 columns]"
      ]
     },
     "execution_count": 58,
     "metadata": {},
     "output_type": "execute_result"
    }
   ],
   "source": [
    "df1"
   ]
  },
  {
   "cell_type": "code",
   "execution_count": 59,
   "metadata": {},
   "outputs": [],
   "source": [
    "df1['timestampload'].fillna(0, inplace=True)\n",
    "df1['timestampsm'].fillna(0, inplace=True)\n"
   ]
  },
  {
   "cell_type": "code",
   "execution_count": 60,
   "metadata": {},
   "outputs": [],
   "source": [
    "new_datatypes={'timestampload': 'int64',\n",
    "                'timestampsm': 'int64'\n",
    "                }\n",
    "df1=df1.astype(new_datatypes)"
   ]
  },
  {
   "cell_type": "code",
   "execution_count": 61,
   "metadata": {},
   "outputs": [
    {
     "data": {
      "text/plain": [
       "name\n",
       "idll_vo3lv                int64\n",
       "timestamp        datetime64[ns]\n",
       "numbercl                 object\n",
       "patternsm                object\n",
       "statuscl                 object\n",
       "timestampcl              object\n",
       "timestampload             int64\n",
       "timestampsm               int64\n",
       "score                     int32\n",
       "dtype: object"
      ]
     },
     "execution_count": 61,
     "metadata": {},
     "output_type": "execute_result"
    }
   ],
   "source": [
    "df1.dtypes"
   ]
  },
  {
   "cell_type": "code",
   "execution_count": 62,
   "metadata": {},
   "outputs": [],
   "source": [
    "df1.drop(df1[(df1['timestampsm'] > 180000)].index, inplace=True)"
   ]
  },
  {
   "cell_type": "code",
   "execution_count": 63,
   "metadata": {},
   "outputs": [
    {
     "data": {
      "text/plain": [
       "0"
      ]
     },
     "execution_count": 63,
     "metadata": {},
     "output_type": "execute_result"
    }
   ],
   "source": [
    "len(df1[ df1['timestampsm'] > 180000])"
   ]
  },
  {
   "cell_type": "code",
   "execution_count": 64,
   "metadata": {},
   "outputs": [
    {
     "data": {
      "text/plain": [
       "257"
      ]
     },
     "execution_count": 64,
     "metadata": {},
     "output_type": "execute_result"
    }
   ],
   "source": [
    "len(df1.patternsm.unique())"
   ]
  },
  {
   "cell_type": "code",
   "execution_count": 65,
   "metadata": {},
   "outputs": [
    {
     "data": {
      "text/html": [
       "<div>\n",
       "<style scoped>\n",
       "    .dataframe tbody tr th:only-of-type {\n",
       "        vertical-align: middle;\n",
       "    }\n",
       "\n",
       "    .dataframe tbody tr th {\n",
       "        vertical-align: top;\n",
       "    }\n",
       "\n",
       "    .dataframe thead th {\n",
       "        text-align: right;\n",
       "    }\n",
       "</style>\n",
       "<table border=\"1\" class=\"dataframe\">\n",
       "  <thead>\n",
       "    <tr style=\"text-align: right;\">\n",
       "      <th>name</th>\n",
       "      <th>idll_vo3lv</th>\n",
       "      <th>timestamp</th>\n",
       "      <th>numbercl</th>\n",
       "      <th>patternsm</th>\n",
       "      <th>statuscl</th>\n",
       "      <th>timestampcl</th>\n",
       "      <th>timestampload</th>\n",
       "      <th>timestampsm</th>\n",
       "      <th>score</th>\n",
       "    </tr>\n",
       "  </thead>\n",
       "  <tbody>\n",
       "    <tr>\n",
       "      <th>0</th>\n",
       "      <td>1</td>\n",
       "      <td>2020-03-09 09:32:32</td>\n",
       "      <td>3,7</td>\n",
       "      <td>0,0,1,0,0,0,1,0</td>\n",
       "      <td>1,1</td>\n",
       "      <td>1583742751461,1583742751869</td>\n",
       "      <td>1583742749790</td>\n",
       "      <td>2520</td>\n",
       "      <td>6</td>\n",
       "    </tr>\n",
       "    <tr>\n",
       "      <th>1</th>\n",
       "      <td>1</td>\n",
       "      <td>2020-03-09 09:32:35</td>\n",
       "      <td>2,1</td>\n",
       "      <td>1,1,0,0,0,0,0,0</td>\n",
       "      <td>1,1</td>\n",
       "      <td>1583742753766,1583742754238</td>\n",
       "      <td>1583742752391</td>\n",
       "      <td>2576</td>\n",
       "      <td>6</td>\n",
       "    </tr>\n",
       "    <tr>\n",
       "      <th>2</th>\n",
       "      <td>1</td>\n",
       "      <td>2020-03-09 09:32:37</td>\n",
       "      <td>3,4</td>\n",
       "      <td>0,0,1,1,0,0,0,0</td>\n",
       "      <td>1,1</td>\n",
       "      <td>1583742756412,1583742756876</td>\n",
       "      <td>1583742755058</td>\n",
       "      <td>2541</td>\n",
       "      <td>6</td>\n",
       "    </tr>\n",
       "    <tr>\n",
       "      <th>3</th>\n",
       "      <td>1</td>\n",
       "      <td>2020-03-09 09:32:40</td>\n",
       "      <td>8,6</td>\n",
       "      <td>0,0,0,0,0,1,0,1</td>\n",
       "      <td>1,1</td>\n",
       "      <td>1583742759029,1583742759476</td>\n",
       "      <td>1583742757674</td>\n",
       "      <td>2540</td>\n",
       "      <td>6</td>\n",
       "    </tr>\n",
       "    <tr>\n",
       "      <th>4</th>\n",
       "      <td>1</td>\n",
       "      <td>2020-03-09 09:32:42</td>\n",
       "      <td>4,3</td>\n",
       "      <td>0,0,1,1,0,0,0,0</td>\n",
       "      <td>1,1</td>\n",
       "      <td>1583742761381,1583742762222</td>\n",
       "      <td>1583742760309</td>\n",
       "      <td>2384</td>\n",
       "      <td>6</td>\n",
       "    </tr>\n",
       "    <tr>\n",
       "      <th>...</th>\n",
       "      <td>...</td>\n",
       "      <td>...</td>\n",
       "      <td>...</td>\n",
       "      <td>...</td>\n",
       "      <td>...</td>\n",
       "      <td>...</td>\n",
       "      <td>...</td>\n",
       "      <td>...</td>\n",
       "      <td>...</td>\n",
       "    </tr>\n",
       "    <tr>\n",
       "      <th>185139</th>\n",
       "      <td>10058</td>\n",
       "      <td>2020-12-04 12:15:51</td>\n",
       "      <td>1,5</td>\n",
       "      <td>1,0,0,0,1,0,0,0</td>\n",
       "      <td>1,1</td>\n",
       "      <td>1607080547519,1607080548139</td>\n",
       "      <td>1607080546777</td>\n",
       "      <td>2113</td>\n",
       "      <td>52</td>\n",
       "    </tr>\n",
       "    <tr>\n",
       "      <th>185140</th>\n",
       "      <td>10058</td>\n",
       "      <td>2020-12-04 12:15:53</td>\n",
       "      <td>3,8</td>\n",
       "      <td>0,0,1,0,0,0,0,1</td>\n",
       "      <td>1,1</td>\n",
       "      <td>1607080549806,1607080550351</td>\n",
       "      <td>1607080549305</td>\n",
       "      <td>1529</td>\n",
       "      <td>52</td>\n",
       "    </tr>\n",
       "    <tr>\n",
       "      <th>185141</th>\n",
       "      <td>10058</td>\n",
       "      <td>2020-12-04 12:15:56</td>\n",
       "      <td>3,7</td>\n",
       "      <td>0,0,1,0,0,0,1,0</td>\n",
       "      <td>1,1</td>\n",
       "      <td>1607080552454,1607080553061</td>\n",
       "      <td>1607080551211</td>\n",
       "      <td>2566</td>\n",
       "      <td>52</td>\n",
       "    </tr>\n",
       "    <tr>\n",
       "      <th>185142</th>\n",
       "      <td>10058</td>\n",
       "      <td>2020-12-04 12:15:57</td>\n",
       "      <td>0</td>\n",
       "      <td>0,0,0,0,0,0,0,0</td>\n",
       "      <td>0</td>\n",
       "      <td>0</td>\n",
       "      <td>1607080554234</td>\n",
       "      <td>875</td>\n",
       "      <td>52</td>\n",
       "    </tr>\n",
       "    <tr>\n",
       "      <th>185143</th>\n",
       "      <td>10058</td>\n",
       "      <td>2020-12-04 12:16:02</td>\n",
       "      <td>4,5,3</td>\n",
       "      <td>0,0,1,1,1,0,0,0</td>\n",
       "      <td>1,1,1</td>\n",
       "      <td>1607080555960,1607080556889,1607080559545</td>\n",
       "      <td>1607080555528</td>\n",
       "      <td>4489</td>\n",
       "      <td>52</td>\n",
       "    </tr>\n",
       "  </tbody>\n",
       "</table>\n",
       "<p>185084 rows × 9 columns</p>\n",
       "</div>"
      ],
      "text/plain": [
       "name    idll_vo3lv           timestamp numbercl        patternsm statuscl  \\\n",
       "0                1 2020-03-09 09:32:32      3,7  0,0,1,0,0,0,1,0      1,1   \n",
       "1                1 2020-03-09 09:32:35      2,1  1,1,0,0,0,0,0,0      1,1   \n",
       "2                1 2020-03-09 09:32:37      3,4  0,0,1,1,0,0,0,0      1,1   \n",
       "3                1 2020-03-09 09:32:40      8,6  0,0,0,0,0,1,0,1      1,1   \n",
       "4                1 2020-03-09 09:32:42      4,3  0,0,1,1,0,0,0,0      1,1   \n",
       "...            ...                 ...      ...              ...      ...   \n",
       "185139       10058 2020-12-04 12:15:51      1,5  1,0,0,0,1,0,0,0      1,1   \n",
       "185140       10058 2020-12-04 12:15:53      3,8  0,0,1,0,0,0,0,1      1,1   \n",
       "185141       10058 2020-12-04 12:15:56      3,7  0,0,1,0,0,0,1,0      1,1   \n",
       "185142       10058 2020-12-04 12:15:57        0  0,0,0,0,0,0,0,0        0   \n",
       "185143       10058 2020-12-04 12:16:02    4,5,3  0,0,1,1,1,0,0,0    1,1,1   \n",
       "\n",
       "name                                  timestampcl  timestampload  timestampsm  \\\n",
       "0                     1583742751461,1583742751869  1583742749790         2520   \n",
       "1                     1583742753766,1583742754238  1583742752391         2576   \n",
       "2                     1583742756412,1583742756876  1583742755058         2541   \n",
       "3                     1583742759029,1583742759476  1583742757674         2540   \n",
       "4                     1583742761381,1583742762222  1583742760309         2384   \n",
       "...                                           ...            ...          ...   \n",
       "185139                1607080547519,1607080548139  1607080546777         2113   \n",
       "185140                1607080549806,1607080550351  1607080549305         1529   \n",
       "185141                1607080552454,1607080553061  1607080551211         2566   \n",
       "185142                                          0  1607080554234          875   \n",
       "185143  1607080555960,1607080556889,1607080559545  1607080555528         4489   \n",
       "\n",
       "name    score  \n",
       "0           6  \n",
       "1           6  \n",
       "2           6  \n",
       "3           6  \n",
       "4           6  \n",
       "...       ...  \n",
       "185139     52  \n",
       "185140     52  \n",
       "185141     52  \n",
       "185142     52  \n",
       "185143     52  \n",
       "\n",
       "[185084 rows x 9 columns]"
      ]
     },
     "execution_count": 65,
     "metadata": {},
     "output_type": "execute_result"
    }
   ],
   "source": [
    "df1"
   ]
  },
  {
   "cell_type": "markdown",
   "metadata": {},
   "source": [
    "## 💡 Feature selection\n",
    "\n",
    "The heatmap below will be used to select a suitable set of features to predict the score. A heatmap is a representation of the correlations between the features in the data set. It is common to put the target variable at the end, so the labels next to heatmap are easiest to read for the target variable."
   ]
  },
  {
   "cell_type": "code",
   "execution_count": 66,
   "metadata": {},
   "outputs": [],
   "source": [
    "df2= df1.drop(columns= ['numbercl', 'patternsm', 'statuscl'], axis=1)"
   ]
  },
  {
   "cell_type": "code",
   "execution_count": 67,
   "metadata": {},
   "outputs": [
    {
     "ename": "ValueError",
     "evalue": "could not convert string to float: '1583742751461,1583742751869'",
     "output_type": "error",
     "traceback": [
      "\u001b[1;31m---------------------------------------------------------------------------\u001b[0m",
      "\u001b[1;31mValueError\u001b[0m                                Traceback (most recent call last)",
      "\u001b[1;32mc:\\Users\\Marjolein\\OneDrive - Office 365 Fontys\\Documenten\\project-AI-4-\\data\\iteration_zero.ipynb Cell 49\u001b[0m line \u001b[0;36m1\n\u001b[1;32m----> <a href='vscode-notebook-cell:/c%3A/Users/Marjolein/OneDrive%20-%20Office%20365%20Fontys/Documenten/project-AI-4-/data/iteration_zero.ipynb#X64sZmlsZQ%3D%3D?line=0'>1</a>\u001b[0m correlations \u001b[39m=\u001b[39m df2\u001b[39m.\u001b[39;49mcorr()\n\u001b[0;32m      <a href='vscode-notebook-cell:/c%3A/Users/Marjolein/OneDrive%20-%20Office%20365%20Fontys/Documenten/project-AI-4-/data/iteration_zero.ipynb#X64sZmlsZQ%3D%3D?line=1'>2</a>\u001b[0m plot \u001b[39m=\u001b[39m sns\u001b[39m.\u001b[39mheatmap(correlations, cbar\u001b[39m=\u001b[39m\u001b[39mTrue\u001b[39;00m, annot\u001b[39m=\u001b[39m\u001b[39mTrue\u001b[39;00m, fmt\u001b[39m=\u001b[39m\u001b[39m\"\u001b[39m\u001b[39m.1f\u001b[39m\u001b[39m\"\u001b[39m)\n",
      "File \u001b[1;32mc:\\Users\\Marjolein\\AppData\\Local\\Programs\\Python\\Python311\\Lib\\site-packages\\pandas\\core\\frame.py:10707\u001b[0m, in \u001b[0;36mDataFrame.corr\u001b[1;34m(self, method, min_periods, numeric_only)\u001b[0m\n\u001b[0;32m  10705\u001b[0m cols \u001b[39m=\u001b[39m data\u001b[39m.\u001b[39mcolumns\n\u001b[0;32m  10706\u001b[0m idx \u001b[39m=\u001b[39m cols\u001b[39m.\u001b[39mcopy()\n\u001b[1;32m> 10707\u001b[0m mat \u001b[39m=\u001b[39m data\u001b[39m.\u001b[39;49mto_numpy(dtype\u001b[39m=\u001b[39;49m\u001b[39mfloat\u001b[39;49m, na_value\u001b[39m=\u001b[39;49mnp\u001b[39m.\u001b[39;49mnan, copy\u001b[39m=\u001b[39;49m\u001b[39mFalse\u001b[39;49;00m)\n\u001b[0;32m  10709\u001b[0m \u001b[39mif\u001b[39;00m method \u001b[39m==\u001b[39m \u001b[39m\"\u001b[39m\u001b[39mpearson\u001b[39m\u001b[39m\"\u001b[39m:\n\u001b[0;32m  10710\u001b[0m     correl \u001b[39m=\u001b[39m libalgos\u001b[39m.\u001b[39mnancorr(mat, minp\u001b[39m=\u001b[39mmin_periods)\n",
      "File \u001b[1;32mc:\\Users\\Marjolein\\AppData\\Local\\Programs\\Python\\Python311\\Lib\\site-packages\\pandas\\core\\frame.py:1892\u001b[0m, in \u001b[0;36mDataFrame.to_numpy\u001b[1;34m(self, dtype, copy, na_value)\u001b[0m\n\u001b[0;32m   1890\u001b[0m \u001b[39mif\u001b[39;00m dtype \u001b[39mis\u001b[39;00m \u001b[39mnot\u001b[39;00m \u001b[39mNone\u001b[39;00m:\n\u001b[0;32m   1891\u001b[0m     dtype \u001b[39m=\u001b[39m np\u001b[39m.\u001b[39mdtype(dtype)\n\u001b[1;32m-> 1892\u001b[0m result \u001b[39m=\u001b[39m \u001b[39mself\u001b[39;49m\u001b[39m.\u001b[39;49m_mgr\u001b[39m.\u001b[39;49mas_array(dtype\u001b[39m=\u001b[39;49mdtype, copy\u001b[39m=\u001b[39;49mcopy, na_value\u001b[39m=\u001b[39;49mna_value)\n\u001b[0;32m   1893\u001b[0m \u001b[39mif\u001b[39;00m result\u001b[39m.\u001b[39mdtype \u001b[39mis\u001b[39;00m \u001b[39mnot\u001b[39;00m dtype:\n\u001b[0;32m   1894\u001b[0m     result \u001b[39m=\u001b[39m np\u001b[39m.\u001b[39marray(result, dtype\u001b[39m=\u001b[39mdtype, copy\u001b[39m=\u001b[39m\u001b[39mFalse\u001b[39;00m)\n",
      "File \u001b[1;32mc:\\Users\\Marjolein\\AppData\\Local\\Programs\\Python\\Python311\\Lib\\site-packages\\pandas\\core\\internals\\managers.py:1656\u001b[0m, in \u001b[0;36mBlockManager.as_array\u001b[1;34m(self, dtype, copy, na_value)\u001b[0m\n\u001b[0;32m   1654\u001b[0m         arr\u001b[39m.\u001b[39mflags\u001b[39m.\u001b[39mwriteable \u001b[39m=\u001b[39m \u001b[39mFalse\u001b[39;00m\n\u001b[0;32m   1655\u001b[0m \u001b[39melse\u001b[39;00m:\n\u001b[1;32m-> 1656\u001b[0m     arr \u001b[39m=\u001b[39m \u001b[39mself\u001b[39;49m\u001b[39m.\u001b[39;49m_interleave(dtype\u001b[39m=\u001b[39;49mdtype, na_value\u001b[39m=\u001b[39;49mna_value)\n\u001b[0;32m   1657\u001b[0m     \u001b[39m# The underlying data was copied within _interleave, so no need\u001b[39;00m\n\u001b[0;32m   1658\u001b[0m     \u001b[39m# to further copy if copy=True or setting na_value\u001b[39;00m\n\u001b[0;32m   1660\u001b[0m \u001b[39mif\u001b[39;00m na_value \u001b[39mis\u001b[39;00m lib\u001b[39m.\u001b[39mno_default:\n",
      "File \u001b[1;32mc:\\Users\\Marjolein\\AppData\\Local\\Programs\\Python\\Python311\\Lib\\site-packages\\pandas\\core\\internals\\managers.py:1715\u001b[0m, in \u001b[0;36mBlockManager._interleave\u001b[1;34m(self, dtype, na_value)\u001b[0m\n\u001b[0;32m   1713\u001b[0m     \u001b[39melse\u001b[39;00m:\n\u001b[0;32m   1714\u001b[0m         arr \u001b[39m=\u001b[39m blk\u001b[39m.\u001b[39mget_values(dtype)\n\u001b[1;32m-> 1715\u001b[0m     result[rl\u001b[39m.\u001b[39;49mindexer] \u001b[39m=\u001b[39m arr\n\u001b[0;32m   1716\u001b[0m     itemmask[rl\u001b[39m.\u001b[39mindexer] \u001b[39m=\u001b[39m \u001b[39m1\u001b[39m\n\u001b[0;32m   1718\u001b[0m \u001b[39mif\u001b[39;00m \u001b[39mnot\u001b[39;00m itemmask\u001b[39m.\u001b[39mall():\n",
      "\u001b[1;31mValueError\u001b[0m: could not convert string to float: '1583742751461,1583742751869'"
     ]
    }
   ],
   "source": [
    "correlations = df2.corr()\n",
    "plot = sns.heatmap(correlations, cbar=True, annot=True, fmt=\".1f\")"
   ]
  },
  {
   "cell_type": "markdown",
   "metadata": {},
   "source": [
    "The correlation above does'nt make sense"
   ]
  },
  {
   "cell_type": "markdown",
   "metadata": {},
   "source": [
    "## 🪓 Splitting into train/test\n",
    "\n"
   ]
  },
  {
   "cell_type": "markdown",
   "metadata": {},
   "source": [
    "# 🧬 Modelling\n"
   ]
  },
  {
   "cell_type": "markdown",
   "metadata": {},
   "source": [
    "As a first modelling step we are using the nearest neighbor model for the first iteration."
   ]
  },
  {
   "cell_type": "code",
   "execution_count": null,
   "metadata": {},
   "outputs": [
    {
     "ename": "NameError",
     "evalue": "name 'df1' is not defined",
     "output_type": "error",
     "traceback": [
      "\u001b[0;31m---------------------------------------------------------------------------\u001b[0m",
      "\u001b[0;31mNameError\u001b[0m                                 Traceback (most recent call last)",
      "Cell \u001b[0;32mIn[2], line 8\u001b[0m\n\u001b[1;32m      3\u001b[0m \u001b[38;5;28;01mfrom\u001b[39;00m \u001b[38;5;21;01msklearn\u001b[39;00m\u001b[38;5;21;01m.\u001b[39;00m\u001b[38;5;21;01mmetrics\u001b[39;00m \u001b[38;5;28;01mimport\u001b[39;00m accuracy_score\n\u001b[1;32m      6\u001b[0m target_variable \u001b[38;5;241m=\u001b[39m \u001b[38;5;124m'\u001b[39m\u001b[38;5;124mscore\u001b[39m\u001b[38;5;124m'\u001b[39m\n\u001b[0;32m----> 8\u001b[0m df1 \u001b[38;5;241m=\u001b[39m \u001b[43mdf1\u001b[49m\u001b[38;5;241m.\u001b[39mdropna(subset\u001b[38;5;241m=\u001b[39m[target_variable])\n\u001b[1;32m     10\u001b[0m features \u001b[38;5;241m=\u001b[39m df1\u001b[38;5;241m.\u001b[39mcolumns\u001b[38;5;241m.\u001b[39mdifference([target_variable, \u001b[38;5;124m'\u001b[39m\u001b[38;5;124midll_vo3lv\u001b[39m\u001b[38;5;124m'\u001b[39m, \u001b[38;5;124m'\u001b[39m\u001b[38;5;124mtimestamp\u001b[39m\u001b[38;5;124m'\u001b[39m])\n\u001b[1;32m     12\u001b[0m X \u001b[38;5;241m=\u001b[39m df1[features]\n",
      "\u001b[0;31mNameError\u001b[0m: name 'df1' is not defined"
     ]
    }
   ],
   "source": [
    "from sklearn.model_selection import train_test_split\n",
    "from sklearn.neighbors import KNeighborsClassifier\n",
    "from sklearn.metrics import accuracy_score\n",
    "\n",
    "\n",
    "target_variable = 'score'\n",
    "\n",
    "df1 = df1.dropna(subset=[target_variable])\n",
    "\n",
    "features = df1.columns.difference([target_variable, 'idll_vo3lv', 'timestamp'])\n",
    "\n",
    "X = df1[features]\n",
    "y = df1[target_variable]\n",
    "\n",
    "for col in X.columns:\n",
    "    if 'timestamp' in col and X[col].dtype == 'object':\n",
    "        # Handle cases where values are in the format '6,2'\n",
    "        X[col] = pd.to_numeric(X[col].astype(str).str.replace(',', ''), errors='coerce')\n",
    "        X[col] = pd.to_datetime(X[col], errors='coerce').apply(lambda x: x.hour * 3600 + x.minute * 60 + x.second)\n",
    "\n",
    "\n",
    "X = X.fillna(0)\n",
    "\n",
    "\n",
    "X_train, X_test, y_train, y_test = train_test_split(X, y, test_size=0.2, random_state=42)\n",
    "\n",
    "\n",
    "knn_model = KNeighborsClassifier(n_neighbors=3) \n",
    "\n",
    "\n",
    "knn_model.fit(X_train, y_train)\n",
    "\n",
    "\n",
    "y_pred = knn_model.predict(X_test)\n",
    "\n",
    "accuracy = accuracy_score(y_test, y_pred)\n",
    "print(\"Accuracy:\", accuracy)\n",
    "\n",
    "\n",
    "predictions = knn_model.predict(new_data_features)"
   ]
  },
  {
   "cell_type": "markdown",
   "metadata": {},
   "source": [
    "There is an error that the string could not be converted to float, I am going to get feedback from my team members."
   ]
  }
 ],
 "metadata": {
  "kernelspec": {
   "display_name": "Python 3 (ipykernel)",
   "language": "python",
   "name": "python3"
  },
  "language_info": {
   "codemirror_mode": {
    "name": "ipython",
    "version": 3
   },
   "file_extension": ".py",
   "mimetype": "text/x-python",
   "name": "python",
   "nbconvert_exporter": "python",
   "pygments_lexer": "ipython3",
   "version": "3.11.0"
  }
 },
 "nbformat": 4,
 "nbformat_minor": 4
}
