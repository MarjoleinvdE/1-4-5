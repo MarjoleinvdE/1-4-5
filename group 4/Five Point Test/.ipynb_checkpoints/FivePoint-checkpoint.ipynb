{
 "cells": [
  {
   "cell_type": "code",
   "execution_count": 1,
   "metadata": {},
   "outputs": [],
   "source": [
    "import sklearn\n",
    "import pandas as pd\n",
    "import numpy as np\n",
    "import matplotlib.pyplot as plt\n",
    "import seaborn as sns"
   ]
  },
  {
   "cell_type": "code",
   "execution_count": 2,
   "metadata": {},
   "outputs": [
    {
     "name": "stdout",
     "output_type": "stream",
     "text": [
      "scikit-learn version: 1.3.0\n",
      "pandas version: 1.5.3\n",
      "seaborn version: 0.12.2\n"
     ]
    }
   ],
   "source": [
    "print(\"scikit-learn version:\", sklearn.__version__)     # 1.1.3\n",
    "print(\"pandas version:\", pd.__version__)            # 1.5.1\n",
    "print(\"seaborn version:\", sns.__version__)   \n"
   ]
  },
  {
   "cell_type": "markdown",
   "metadata": {},
   "source": [
    "# 📦 Data provisioning"
   ]
  },
  {
   "cell_type": "code",
   "execution_count": 3,
   "metadata": {},
   "outputs": [
    {
     "name": "stdout",
     "output_type": "stream",
     "text": [
      "(4300, 0)\n",
      "(1765, 0)\n"
     ]
    }
   ],
   "source": [
    "df1 = pd.read_csv(\"big5.csv\", index_col=0)\n",
    "df2= pd.read_csv(\"eindtoets.csv\", index_col=0)\n",
    "df3 =\n",
    "print(df1.shape)\n",
    "print(df2.shape)"
   ]
  },
  {
   "cell_type": "code",
   "execution_count": null,
   "metadata": {},
   "outputs": [],
   "source": []
  }
 ],
 "metadata": {
  "kernelspec": {
   "display_name": "Python 3 (ipykernel)",
   "language": "python",
   "name": "python3"
  },
  "language_info": {
   "codemirror_mode": {
    "name": "ipython",
    "version": 3
   },
   "file_extension": ".py",
   "mimetype": "text/x-python",
   "name": "python",
   "nbconvert_exporter": "python",
   "pygments_lexer": "ipython3",
   "version": "3.11.4"
  }
 },
 "nbformat": 4,
 "nbformat_minor": 2
}
